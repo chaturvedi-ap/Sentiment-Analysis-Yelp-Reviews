{
 "cells": [
  {sdsdsdsdsdsdsdsdsdsdsdsdsdsdsdsdsd

   "cell_type": "code",
   "execution_count": 13,
   "metadata": {},
   "outputs": [],
   "source": [
    "#initial Setup"
   ]
  },
  {
   "cell_type": "code",
   "execution_count": 30,
   "metadata": {},
   "outputs": [
    {
     "name": "stdout",
     "output_type": "stream",
     "text": [
      "[{'InvoiceId': 1, 'Customer': 'Jack Khler', 'BillingAddress': '4, Rue Milton', 'BillingCity': 'Stuttgart', 'BillingCountry': 'Germany'}, {'InvoiceId': 2, 'Customer': 'Ellie Hansen', 'BillingAddress': '11, Place Bellecour', 'BillingCity': 'Oslo', 'BillingCountry': 'Norway'}, {'InvoiceId': 3, 'Customer': 'Niklas Peeters', 'BillingAddress': 'Erzs bet krt. 58.', 'BillingCity': 'Brussels', 'BillingCountry': 'Belgium'}, {'InvoiceId': 4, 'Customer': 'Leonie Philips', 'BillingAddress': 'Celsiusg. 9', 'BillingCity': 'Edmonton', 'BillingCountry': 'Canada'}, {'InvoiceId': 5, 'Customer': 'Jack Gordon', 'BillingAddress': 'Av. Brigadeiro Faria Lima, 2170', 'BillingCity': 'Boston', 'BillingCountry': 'USA'}, {'InvoiceId': 6, 'Customer': 'Mark Zimmermann', 'BillingAddress': '700 W Pender Street', 'BillingCity': 'Frankfurt', 'BillingCountry': 'Germany'}, {'InvoiceId': 7, 'Customer': 'Luis Schrder', 'BillingAddress': '1600 Amphitheatre Parkway', 'BillingCity': 'Berlin', 'BillingCountry': 'Germany'}, {'InvoiceId': 8, 'Customer': 'Fernanda Lefebvre', 'BillingAddress': '627 Broadway', 'BillingCity': 'Paris', 'BillingCountry': 'France'}, {'InvoiceId': 9, 'Customer': 'Bjrn Girard', 'BillingAddress': '541 Del Medio Avenue', 'BillingCity': 'Bordeaux', 'BillingCountry': 'France'}, {'InvoiceId': 10, 'Customer': \"Emma O'Reilly\", 'BillingAddress': '162 E Superior Street', 'BillingCity': 'Dublin', 'BillingCountry': 'Ireland'}]\n"
     ]
    }
   ],
   "source": [
    "import json\n",
    "with open('C:\\\\Users\\\\Apoorv\\\\Downloads\\\\csvjson.json') as f:\n",
    "  data = json.load(f)\n",
    "\n",
    "print(data)"
   ]
  },
  {
   "cell_type": "code",
   "execution_count": 25,
   "metadata": {},
   "outputs": [
    {
     "data": {
      "text/plain": [
       "'C:\\\\Users\\\\Apoorv'"
      ]
     },
     "execution_count": 25,
     "metadata": {},
     "output_type": "execute_result"
    }
   ],
   "source": [
    "pwd"
   ]
  },
  {
   "cell_type": "code",
   "execution_count": 16,
   "metadata": {},
   "outputs": [
    {
     "name": "stdout",
     "output_type": "stream",
     "text": [
      "   avg_item1  avg_item2  avg_item4  avg_item5  avg_item6  avg_item7  \\\n",
      "0        1.0   0.854369    0.56068   0.429612    0.42233   0.286408   \n",
      "\n",
      "   avg_item8  avg_item9  avg_item10  avg_item11  avg_item12  avg_item13  \\\n",
      "0   0.286408   0.276699    0.143204    0.143204    0.143204    0.143204   \n",
      "\n",
      "   avg_item14  \n",
      "0    0.135922  \n"
     ]
    }
   ],
   "source": [
    "query_1 = \"\"\"SELECT  cast(COUNT(Item1 != 'NaN')/cast(count(InvoiceId) as float) as decimal(10,5)) as avg_item1,\n",
    "    cast(COUNT(Item2 != 'NaN')/cast(count(InvoiceId) as float) as decimal(10,5)) as avg_item2,\n",
    "    cast(COUNT(Item4 != 'NaN')/cast(count(InvoiceId) as float) as decimal(10,5)) as avg_item4,\n",
    "    cast(COUNT(Item5 != 'NaN')/cast(count(InvoiceId) as float) as decimal(10,5)) as avg_item5,\n",
    "    cast(COUNT(Item6 != 'NaN')/cast(count(InvoiceId) as float) as decimal(10,5)) as avg_item6,\n",
    "    cast(COUNT(Item7 != 'NaN')/cast(count(InvoiceId) as float) as decimal(10,5)) as avg_item7,\n",
    "    cast(COUNT(Item8 != 'NaN')/cast(count(InvoiceId) as float) as decimal(10,5)) as avg_item8,\n",
    "    cast(COUNT(Item9 != 'NaN')/cast(count(InvoiceId) as float) as decimal(10,5)) as avg_item9,\n",
    "    cast(COUNT(Item10 != 'NaN')/cast(count(InvoiceId) as float) as decimal(10,5)) as avg_item10,\n",
    "    cast(COUNT(Item11 != 'NaN')/cast(count(InvoiceId) as float) as decimal(10,5)) as avg_item11,\n",
    "    cast(COUNT(Item12 != 'NaN')/cast(count(InvoiceId) as float) as decimal(10,5)) as avg_item12,\n",
    "    cast(COUNT(Item13 != 'NaN')/cast(count(InvoiceId) as float) as decimal(10,5)) as avg_item13,\n",
    "    cast(COUNT(Item14 != 'NaN')/cast(count(InvoiceId) as float) as decimal(10,5)) as avg_item14\n",
    "    FROM df\"\"\"\n",
    "\n",
    "print(ps.sqldf(query_1, locals()))\n"
   ]
  },
  {
   "cell_type": "code",
   "execution_count": 17,
   "metadata": {},
   "outputs": [],
   "source": [
    "#Query to calulate the average number of ITEMS in INVOICE over all INVOICES"
   ]
  },
  {
   "cell_type": "code",
   "execution_count": 18,
   "metadata": {},
   "outputs": [
    {
     "name": "stdout",
     "output_type": "stream",
     "text": [
      "   Average_items_per_invoice\n",
      "0                   4.264563\n"
     ]
    }
   ],
   "source": [
    "query_2 = \"\"\"SELECT  cast((COUNT(Item1 != 'NaN')+\n",
    "        COUNT(Item2 != 'NaN')+\n",
    "        COUNT(Item5 != 'NaN')+\n",
    "        COUNT(Item6 != 'NaN')+\n",
    "        COUNT(Item7 != 'NaN')+\n",
    "        COUNT(Item8 != 'NaN')+\n",
    "        COUNT(Item9 != 'NaN')+\n",
    "        COUNT(Item10 != 'NaN')+\n",
    "        COUNT(Item11 != 'NaN')+\n",
    "        COUNT(Item12 != 'NaN')+\n",
    "        COUNT(Item13 != 'NaN')+\n",
    "        COUNT(Item14 != 'NaN')) as decimal(10,5))/cast(count(InvoiceId) as float) as Average_items_per_invoice\n",
    "    FROM df\"\"\"\n",
    "print(ps.sqldf(query_2, locals()))"
   ]
  }
 ],
 "metadata": {
  "kernelspec": {
   "display_name": "Python 3",
   "language": "python",
   "name": "python3"
  },
  "language_info": {
   "codemirror_mode": {
    "name": "ipython",
    "version": 3
   },
   "file_extension": ".py",
   "mimetype": "text/x-python",
   "name": "python",
   "nbconvert_exporter": "python",
   "pygments_lexer": "ipython3",
   "version": "3.8.3"
  }
 },
 "nbformat": 4,
 "nbformat_minor": 4
}
